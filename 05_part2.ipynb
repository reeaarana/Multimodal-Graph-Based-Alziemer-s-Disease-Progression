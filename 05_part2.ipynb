{
  "cells": [
    {
      "cell_type": "code",
      "execution_count": null,
      "metadata": {
        "colab": {
          "background_save": true
        },
        "id": "-Vunu7i7Z0q-",
        "outputId": "8431a5f4-be76-47d7-e24e-87dfaca71eb1"
      },
      "outputs": [
        {
          "name": "stdout",
          "output_type": "stream",
          "text": [
            "Mounted at /content/drive\n",
            "✅ Drive mounted.\n",
            "Drive contents at root:\n",
            " - MyDrive\n",
            " - .shortcut-targets-by-id\n",
            " - .Trash-0\n",
            " - .Encrypted\n",
            "\n",
            "Project folder exists? True\n",
            "Contents of oasis_project:\n",
            "    notebooks\n",
            "    data\n",
            "    outputs\n",
            "    logs\n",
            "    oasis2_graph_dataset.pt\n"
          ]
        }
      ],
      "source": [
        "from google.colab import drive\n",
        "import os\n",
        "import shutil\n",
        "\n",
        "# Unmount drive if already mounted and clear the mountpoint\n",
        "if os.path.exists('/content/drive'):\n",
        "    try:\n",
        "        drive.flush_and_unmount()\n",
        "        # It might take a moment for the unmount to complete,\n",
        "        # but often clearing the directory is sufficient.\n",
        "    except ValueError:\n",
        "        # Drive was not mounted, no need to unmount\n",
        "        pass\n",
        "\n",
        "    # Clear the mountpoint directory\n",
        "    if os.path.exists('/content/drive') and os.path.isdir('/content/drive'):\n",
        "        for item in os.listdir('/content/drive'):\n",
        "            item_path = os.path.join('/content/drive', item)\n",
        "            try:\n",
        "                if os.path.isfile(item_path) or os.path.islink(item_path):\n",
        "                    os.unlink(item_path)\n",
        "                elif os.path.isdir(item_path):\n",
        "                    shutil.rmtree(item_path)\n",
        "            except Exception as e:\n",
        "                print(f\"Error removing {item_path}: {e}\")\n",
        "\n",
        "\n",
        "drive.mount('/content/drive', force_remount=True)\n",
        "\n",
        "print(\"✅ Drive mounted.\")\n",
        "print(\"Drive contents at root:\")\n",
        "for f in os.listdir(\"/content/drive\"):\n",
        "    print(\" -\", f)\n",
        "\n",
        "# verify main project folder exists\n",
        "proj = \"/content/drive/MyDrive/oasis_project\"\n",
        "print(\"\\nProject folder exists?\", os.path.exists(proj))\n",
        "if os.path.exists(proj):\n",
        "    print(\"Contents of oasis_project:\")\n",
        "    for f in os.listdir(proj):\n",
        "        print(\"   \", f)"
      ]
    },
    {
      "cell_type": "code",
      "execution_count": null,
      "metadata": {
        "colab": {
          "base_uri": "https://localhost:8080/",
          "height": 393
        },
        "id": "n2xHlSxIZKNX",
        "outputId": "41298182-0ac6-456f-dc1c-fef9cd748e76"
      },
      "outputs": [
        {
          "ename": "ModuleNotFoundError",
          "evalue": "No module named 'torch_geometric'",
          "output_type": "error",
          "traceback": [
            "\u001b[0;31m---------------------------------------------------------------------------\u001b[0m",
            "\u001b[0;31mModuleNotFoundError\u001b[0m                       Traceback (most recent call last)",
            "\u001b[0;32m/tmp/ipython-input-2870701397.py\u001b[0m in \u001b[0;36m<cell line: 0>\u001b[0;34m()\u001b[0m\n\u001b[1;32m     10\u001b[0m \u001b[0;34m\u001b[0m\u001b[0m\n\u001b[1;32m     11\u001b[0m \u001b[0;31m# PyG DataLoader import (non-deprecated)\u001b[0m\u001b[0;34m\u001b[0m\u001b[0;34m\u001b[0m\u001b[0m\n\u001b[0;32m---> 12\u001b[0;31m \u001b[0;32mfrom\u001b[0m \u001b[0mtorch_geometric\u001b[0m\u001b[0;34m.\u001b[0m\u001b[0mloader\u001b[0m \u001b[0;32mimport\u001b[0m \u001b[0mDataLoader\u001b[0m \u001b[0;32mas\u001b[0m \u001b[0mPyGLoader\u001b[0m\u001b[0;34m\u001b[0m\u001b[0;34m\u001b[0m\u001b[0m\n\u001b[0m\u001b[1;32m     13\u001b[0m \u001b[0;34m\u001b[0m\u001b[0m\n\u001b[1;32m     14\u001b[0m \u001b[0;31m# paths\u001b[0m\u001b[0;34m\u001b[0m\u001b[0;34m\u001b[0m\u001b[0m\n",
            "\u001b[0;31mModuleNotFoundError\u001b[0m: No module named 'torch_geometric'",
            "",
            "\u001b[0;31m---------------------------------------------------------------------------\u001b[0;32m\nNOTE: If your import is failing due to a missing package, you can\nmanually install dependencies using either !pip or !apt.\n\nTo view examples of installing some common dependencies, click the\n\"Open Examples\" button below.\n\u001b[0;31m---------------------------------------------------------------------------\u001b[0m\n"
          ]
        }
      ],
      "source": [
        "# Cell 0\n",
        "import os, random, math, tempfile\n",
        "from pathlib import Path\n",
        "import numpy as np\n",
        "import torch\n",
        "import torch.nn.functional as F\n",
        "from sklearn.metrics import mean_squared_error, r2_score, roc_auc_score, accuracy_score\n",
        "from sklearn.linear_model import LinearRegression\n",
        "from sklearn.preprocessing import StandardScaler\n",
        "\n",
        "# PyG DataLoader import (non-deprecated)\n",
        "from torch_geometric.loader import DataLoader as PyGLoader\n",
        "\n",
        "# paths\n",
        "BASE = \"/content/drive/MyDrive/oasis_project\"\n",
        "GRAPH_DIR = os.path.join(BASE, \"data\", \"graphs\")\n",
        "OUTPUT_DIR = os.path.join(BASE, \"outputs\", \"models\")\n",
        "os.makedirs(OUTPUT_DIR, exist_ok=True)\n",
        "\n",
        "# Train master candidate (try a few likely names)\n",
        "TRAIN_MASTER_CANDIDATES = [\n",
        "    os.path.join(GRAPH_DIR, \"oasis2_graphs_labeled_auto_full.pt\"),\n",
        "    os.path.join(GRAPH_DIR, \"oasis2_graphs_labeled_auto.pt\"),\n",
        "    os.path.join(GRAPH_DIR, \"oasis2_graph_dataset.pt\"),\n",
        "]\n",
        "\n",
        "# Your provided external/test file (part3)\n",
        "TEST_PT = os.path.join(GRAPH_DIR, \"oasis2_graphs_labeled_part3.pt\")\n",
        "\n",
        "SEED = 42\n",
        "random.seed(SEED); np.random.seed(SEED); torch.manual_seed(SEED)\n",
        "if torch.cuda.is_available(): torch.cuda.manual_seed_all(SEED)\n",
        "device = torch.device(\"cuda\" if torch.cuda.is_available() else \"cpu\")\n",
        "print(\"Device:\", device)\n"
      ]
    },
    {
      "cell_type": "code",
      "execution_count": null,
      "metadata": {
        "id": "sVaXgly3Zsvc"
      },
      "outputs": [],
      "source": []
    }
  ],
  "metadata": {
    "colab": {
      "provenance": []
    },
    "kernelspec": {
      "display_name": "Python 3",
      "name": "python3"
    },
    "language_info": {
      "name": "python"
    }
  },
  "nbformat": 4,
  "nbformat_minor": 0
}